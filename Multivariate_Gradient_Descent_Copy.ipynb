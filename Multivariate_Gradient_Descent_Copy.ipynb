{
  "nbformat": 4,
  "nbformat_minor": 0,
  "metadata": {
    "colab": {
      "provenance": []
    },
    "kernelspec": {
      "name": "python3",
      "display_name": "Python 3"
    },
    "language_info": {
      "name": "python"
    }
  },
  "cells": [
    {
      "cell_type": "code",
      "execution_count": 1,
      "metadata": {
        "colab": {
          "base_uri": "https://localhost:8080/"
        },
        "id": "TJfo7HZ1ubcx",
        "outputId": "a02c0526-5441-4a72-8573-a83fee3cd906"
      },
      "outputs": [
        {
          "output_type": "stream",
          "name": "stdout",
          "text": [
            "Cloning into 'WiDS-2023'...\n",
            "remote: Enumerating objects: 36, done.\u001b[K\n",
            "remote: Counting objects: 100% (36/36), done.\u001b[K\n",
            "remote: Compressing objects: 100% (27/27), done.\u001b[K\n",
            "remote: Total 36 (delta 11), reused 28 (delta 7), pack-reused 0\u001b[K\n",
            "Receiving objects: 100% (36/36), 15.06 MiB | 28.88 MiB/s, done.\n",
            "Resolving deltas: 100% (11/11), done.\n"
          ]
        }
      ],
      "source": [
        "!git clone https://github.com/Dhvanil-CSE/WiDS-2023.git"
      ]
    },
    {
      "cell_type": "code",
      "source": [
        "!ls WiDS-2023/*"
      ],
      "metadata": {
        "colab": {
          "base_uri": "https://localhost:8080/"
        },
        "id": "KS2AvdnCus9n",
        "outputId": "de951269-661d-4507-bddc-ee13a8b8c6eb"
      },
      "execution_count": 2,
      "outputs": [
        {
          "output_type": "stream",
          "name": "stdout",
          "text": [
            "WiDS-2023/README.md\n",
            "\n",
            "WiDS-2023/Final_Project:\n",
            "brain_images_dataset.zip  README.md\n",
            "\n",
            "WiDS-2023/Week1:\n",
            "company_sales_data.csv\t     Multivariate_Gradient_Descent.ipynb  README.md\n",
            "Matplotlib_and_pandas.ipynb  NumPy_Assignment.ipynb\n"
          ]
        }
      ]
    },
    {
      "cell_type": "code",
      "source": [
        "!cat /content/WiDS-2023/Week1/Multivariate_Gradient_Descent.ipynb"
      ],
      "metadata": {
        "colab": {
          "base_uri": "https://localhost:8080/"
        },
        "id": "PuWXOuPWu3lq",
        "outputId": "8723fced-f7ea-45a2-a1fb-2bea907161f2"
      },
      "execution_count": 3,
      "outputs": [
        {
          "output_type": "stream",
          "name": "stdout",
          "text": [
            "{\n",
            "  \"nbformat\": 4,\n",
            "  \"nbformat_minor\": 0,\n",
            "  \"metadata\": {\n",
            "    \"colab\": {\n",
            "      \"provenance\": []\n",
            "    },\n",
            "    \"kernelspec\": {\n",
            "      \"name\": \"python3\",\n",
            "      \"display_name\": \"Python 3\"\n",
            "    },\n",
            "    \"language_info\": {\n",
            "      \"name\": \"python\"\n",
            "    }\n",
            "  },\n",
            "  \"cells\": [\n",
            "    {\n",
            "      \"cell_type\": \"markdown\",\n",
            "      \"source\": [\n",
            "        \"In this part of the assignment you have to implement multivariate gradient descent to find the minimas (local and global) of the given function:\\n\",\n",
            "        \"Note : you can find different minimas by changing your initialisation.  \\n\",\n",
            "        \"$f(x) = x^4 + x^2y^2 - y^2 + y^4 + 6$\"\n",
            "      ],\n",
            "      \"metadata\": {\n",
            "        \"id\": \"n_ZwYtYkkhMw\"\n",
            "      }\n",
            "    },\n",
            "    {\n",
            "      \"cell_type\": \"code\",\n",
            "      \"execution_count\": null,\n",
            "      \"metadata\": {\n",
            "        \"id\": \"AGC301Ynkcth\"\n",
            "      },\n",
            "      \"outputs\": [],\n",
            "      \"source\": [\n",
            "        \"#start your code here :)\"\n",
            "      ]\n",
            "    }\n",
            "  ]\n",
            "}"
          ]
        }
      ]
    },
    {
      "cell_type": "code",
      "source": [
        "\"nbformat\": 4,\n",
        "  \"nbformat_minor\": 0,\n",
        "  \"metadata\": {\n",
        "    \"colab\": {\n",
        "      \"provenance\": []\n",
        "    },\n",
        "    \"kernelspec\": {\n",
        "      \"name\": \"python3\",\n",
        "      \"display_name\": \"Python 3\"\n",
        "    },\n",
        "    \"language_info\": {\n",
        "      \"name\": \"python\"\n",
        "    }\n",
        "  },\n",
        "  \"cells\": [\n",
        "    {\n",
        "      \"cell_type\": \"markdown\",\n",
        "      \"source\": [\n",
        "        \"In this part of the assignment you have to implement multivariate gradient descent to find the minimas (local and global) of the given function:\\n\",\n",
        "        \"Note : you can find different minimas by changing your initialisation.  \\n\",\n",
        "        \"$f(x) = x^4 + x^2y^2 - y^2 + y^4 + 6$\"\n",
        "      ],\n",
        "      \"metadata\": {\n",
        "        \"id\": \"n_ZwYtYkkhMw\"\n",
        "      }\n",
        "    },\n",
        "    {\n",
        "      \"cell_type\": \"code\",\n",
        "      \"execution_count\": null,\n",
        "      \"metadata\": {\n",
        "        \"id\": \"AGC301Ynkcth\"\n",
        "      },\n",
        "      \"outputs\": [],\n",
        "      \"source\": [\n",
        "\"def grad(x, y):\n",
        "    dox = 4 * x**3 + 2 * x * y**2\n",
        "    doy= 2 * x**2 * y - 2 * y + 4 * y**3\n",
        "    return [dox, doy]\n",
        "\n",
        "x = -1.0\n",
        "y = -1.0\n",
        "z = 100000\n",
        "w= 0.0001\n",
        "\n",
        "\n",
        "for i in range(z):\n",
        "    g= grad(x, y)\n",
        "    x -= w* g[0]\n",
        "    y -= w* g[1]\n",
        "print('at',(x,y),' f(x,y)= ', x**4 + x**2 * y**2 - y**2 + y**4 + 6)\n",
        "x = 1.0\n",
        "y = 1.0\n",
        "for i in range(z):\n",
        "    g= grad(x, y)\n",
        "    x -= w* g[0]\n",
        "    y -= w* g[1]\n",
        "print('at',(x,y),' f(x,y)= ', x**4 + x**2 * y**2 - y**2 + y**4 + 6)\"\n",
        "      ]\n",
        "    }\n",
        "  ]\n",
        "}"
      ],
      "metadata": {
        "colab": {
          "base_uri": "https://localhost:8080/",
          "height": 141
        },
        "id": "R4Q3fNljvVhS",
        "outputId": "d0a2bfb7-6cb3-47fe-8ffc-10e7cd788205"
      },
      "execution_count": 4,
      "outputs": [
        {
          "output_type": "error",
          "ename": "SyntaxError",
          "evalue": "ignored",
          "traceback": [
            "\u001b[0;36m  File \u001b[0;32m\"<ipython-input-4-cafe2bc18b33>\"\u001b[0;36m, line \u001b[0;32m35\u001b[0m\n\u001b[0;31m    \"def grad(x, y):\u001b[0m\n\u001b[0m    ^\u001b[0m\n\u001b[0;31mSyntaxError\u001b[0m\u001b[0;31m:\u001b[0m unterminated string literal (detected at line 35)\n"
          ]
        }
      ]
    }
  ]
}